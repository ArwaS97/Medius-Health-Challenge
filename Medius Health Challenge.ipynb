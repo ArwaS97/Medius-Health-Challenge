{
 "cells": [
  {
   "cell_type": "markdown",
   "metadata": {},
   "source": [
    "# Medius Health Data Science Challenge\n",
    "By Arwa Siddiqui\n",
    "\n",
    "#### Data Description: \n",
    "1. Dataset is provided in “data” folder. Each file in the data folder is considered as a document.\n",
    "2. There are 300 documents.\n",
    "3. Each document has some text information.\n",
    "\n",
    "#### Task Description: \n",
    "Grouping documents with the same semantic description into clusters. \n",
    "1. Process the text data in each document/file using NLP, data processing, text mining.\n",
    "3. Develop a model to partition the data into multiple clusters. It is required to develop the end-to-end model in python instead of using any data clustering libraries or pre-trained models.\n",
    "\n",
    "The **outcome** of the model: \n",
    "1. Number of clusters and the data points in each cluster. \n",
    "2. Report the number of clusters found in the data.\n",
    "3. Find out the topics of each cluster. (You can run any benchmark off-the-shelf topic modelling algorithm like Latent Dirichlet Allocation (LDA) or PLSA)\n",
    "4. If possible, visualize the cluster. (bonus point)"
   ]
  },
  {
   "cell_type": "markdown",
   "metadata": {},
   "source": [
    "## Load imports "
   ]
  },
  {
   "cell_type": "code",
   "execution_count": 1,
   "metadata": {},
   "outputs": [
    {
     "name": "stderr",
     "output_type": "stream",
     "text": [
      "\n",
      "Bad key \"text.kerning_factor\" on line 4 in\n",
      "C:\\Users\\arwas\\Anaconda3\\lib\\site-packages\\matplotlib\\mpl-data\\stylelib\\_classic_test_patch.mplstyle.\n",
      "You probably need to get an updated matplotlibrc file from\n",
      "http://github.com/matplotlib/matplotlib/blob/master/matplotlibrc.template\n",
      "or from the matplotlib source distribution\n"
     ]
    }
   ],
   "source": [
    "# Import libraries \n",
    "import os\n",
    "import re\n",
    "from csv import reader\n",
    "import numpy as np\n",
    "import pandas as pd\n",
    "import random as rd\n",
    "from collections import defaultdict\n",
    "from pathlib import Path\n",
    "\n",
    "import matplotlib.pyplot as plt\n",
    "from matplotlib.pyplot import figure\n",
    "import matplotlib.cm as cm\n",
    "%matplotlib inline\n",
    "\n",
    "import nltk\n",
    "from nltk.probability import FreqDist\n",
    "from nltk.tokenize import word_tokenize, RegexpTokenizer\n",
    "from nltk.corpus import stopwords\n",
    "from nltk.stem.porter import PorterStemmer\n",
    "\n",
    "import sklearn \n",
    "from sklearn.cluster import KMeans\n",
    "from sklearn.cluster import MiniBatchKMeans\n",
    "from sklearn.feature_extraction.text import TfidfVectorizer\n",
    "from sklearn.decomposition import PCA\n",
    "from sklearn.manifold import TSNE\n",
    "\n",
    "import gensim\n",
    "from gensim import corpora, models"
   ]
  },
  {
   "cell_type": "markdown",
   "metadata": {},
   "source": [
    "# Process Text Documents"
   ]
  },
  {
   "cell_type": "code",
   "execution_count": 2,
   "metadata": {},
   "outputs": [
    {
     "name": "stdout",
     "output_type": "stream",
     "text": [
      "Number of documents: 300\n"
     ]
    }
   ],
   "source": [
    "# Access documents from Dataset\n",
    "# Get a list of all files under the current directory\n",
    "flist = []\n",
    "for root, dirs, files in os.walk('data/'):\n",
    "    flist += [os.path.join(root, f) for f in files]\n",
    "flist.pop(0)\n",
    "print(\"Number of documents:\", len(flist))"
   ]
  },
  {
   "cell_type": "code",
   "execution_count": 3,
   "metadata": {},
   "outputs": [
    {
     "data": {
      "text/html": [
       "<div>\n",
       "<style scoped>\n",
       "    .dataframe tbody tr th:only-of-type {\n",
       "        vertical-align: middle;\n",
       "    }\n",
       "\n",
       "    .dataframe tbody tr th {\n",
       "        vertical-align: top;\n",
       "    }\n",
       "\n",
       "    .dataframe thead th {\n",
       "        text-align: right;\n",
       "    }\n",
       "</style>\n",
       "<table border=\"1\" class=\"dataframe\">\n",
       "  <thead>\n",
       "    <tr style=\"text-align: right;\">\n",
       "      <th></th>\n",
       "      <th>filename</th>\n",
       "      <th>text</th>\n",
       "    </tr>\n",
       "  </thead>\n",
       "  <tbody>\n",
       "    <tr>\n",
       "      <th>0</th>\n",
       "      <td>176869</td>\n",
       "      <td>Xref: cantaloupe.srv.cs.cmu.edu talk.politics....</td>\n",
       "    </tr>\n",
       "    <tr>\n",
       "      <th>1</th>\n",
       "      <td>176878</td>\n",
       "      <td>Xref: cantaloupe.srv.cs.cmu.edu talk.politics....</td>\n",
       "    </tr>\n",
       "    <tr>\n",
       "      <th>2</th>\n",
       "      <td>176881</td>\n",
       "      <td>Xref: cantaloupe.srv.cs.cmu.edu talk.politics....</td>\n",
       "    </tr>\n",
       "    <tr>\n",
       "      <th>3</th>\n",
       "      <td>176884</td>\n",
       "      <td>Xref: cantaloupe.srv.cs.cmu.edu misc.headlines...</td>\n",
       "    </tr>\n",
       "    <tr>\n",
       "      <th>4</th>\n",
       "      <td>176886</td>\n",
       "      <td>Path: cantaloupe.srv.cs.cmu.edu!crabapple.srv....</td>\n",
       "    </tr>\n",
       "  </tbody>\n",
       "</table>\n",
       "</div>"
      ],
      "text/plain": [
       "  filename                                               text\n",
       "0   176869  Xref: cantaloupe.srv.cs.cmu.edu talk.politics....\n",
       "1   176878  Xref: cantaloupe.srv.cs.cmu.edu talk.politics....\n",
       "2   176881  Xref: cantaloupe.srv.cs.cmu.edu talk.politics....\n",
       "3   176884  Xref: cantaloupe.srv.cs.cmu.edu misc.headlines...\n",
       "4   176886  Path: cantaloupe.srv.cs.cmu.edu!crabapple.srv...."
      ]
     },
     "execution_count": 3,
     "metadata": {},
     "output_type": "execute_result"
    }
   ],
   "source": [
    "# Read documents into one document (i.e. list)\n",
    "my_dir_path = \"OneDrive/Desktop/Medius Health Challenge/Medius-Health-Challenge/data\"\n",
    "results = defaultdict(list)\n",
    "for file in flist:\n",
    "    with open(file, \"r\") as file_open:\n",
    "        results[\"filename\"].append(file.replace(\"data/\", \"\"))\n",
    "        results[\"text\"].append(file_open.read())\n",
    "df = pd.DataFrame(results)\n",
    "df.head()"
   ]
  },
  {
   "cell_type": "code",
   "execution_count": 4,
   "metadata": {},
   "outputs": [
    {
     "name": "stderr",
     "output_type": "stream",
     "text": [
      "C:\\Users\\arwas\\Anaconda3\\lib\\site-packages\\ipykernel_launcher.py:2: FutureWarning: Possible nested set at position 1\n",
      "  \n"
     ]
    }
   ],
   "source": [
    "# Process documents\n",
    "documents = re.split(\"[[0-9]+]|\\n|\\t|\\\\\\\\n|\\\\\\\\t\", str(df['text']))\n",
    "tokenizer = RegexpTokenizer(r'\\w+')\n",
    "#tokens = word_tokenize(raw)\n",
    "tokens = tokenizer.tokenize(str(documents))\n",
    "processed_docs = nltk.sent_tokenize(str(documents))\n",
    "\n",
    "# Lower case all words and make sorted vocabulary \n",
    "raw_words = [w.lower() for w in tokens]\n",
    "stop_words = set(stopwords.words(\"english\"))\n",
    "new_words = []\n",
    "for w in raw_words:\n",
    "    if w not in stop_words:\n",
    "        new_words.append(w)\n",
    "        \n",
    "remove_words = ['edu', 'com', 'cmu', 'cs', 'cantaloupe', 'srv', 'newsgroups', 'cantaloupe', \n",
    "               'xref', 'subject', 'id', 'message', 'from', 'date', 'sender', \n",
    "               'references', 'organization', 'lines', 'path']\n",
    "words = []\n",
    "for w in new_words:  \n",
    "    if w not in remove_words:\n",
    "        words.append(w)\n",
    "        \n",
    "p_stemmer = PorterStemmer()\n",
    "texts = [p_stemmer.stem(i) for i in words]"
   ]
  },
  {
   "cell_type": "code",
   "execution_count": 5,
   "metadata": {},
   "outputs": [
    {
     "data": {
      "text/plain": [
       "[('polit', 34),\n",
       " ('talk', 33),\n",
       " ('cantal', 12),\n",
       " ('gun', 11),\n",
       " ('crabappl', 8),\n",
       " ('misc', 7),\n",
       " ('magnesium', 7),\n",
       " ('club', 7),\n",
       " ('alt', 6),\n",
       " ('4', 3)]"
      ]
     },
     "execution_count": 5,
     "metadata": {},
     "output_type": "execute_result"
    }
   ],
   "source": [
    "# Plot highest frequency of words\n",
    "fdist = FreqDist(texts)\n",
    "fdist.most_common(10)"
   ]
  },
  {
   "cell_type": "code",
   "execution_count": 6,
   "metadata": {},
   "outputs": [
    {
     "data": {
      "image/png": "[encoded data removed]",
      "text/plain": [
       "<Figure size 720x288 with 1 Axes>"
      ]
     },
     "metadata": {
      "needs_background": "light"
     },
     "output_type": "display_data"
    }
   ],
   "source": [
    "figure(figsize=(10, 4))\n",
    "fdist.plot(20, cumulative=False)\n",
    "plt.show()"
   ]
  },
  {
   "cell_type": "code",
   "execution_count": 7,
   "metadata": {},
   "outputs": [],
   "source": [
    "vectorizer = TfidfVectorizer(min_df = 5,\n",
    "                             max_df = 0.95,\n",
    "                             max_features = 8000,\n",
    "                             stop_words='english')\n",
    "X = vectorizer.fit_transform(texts)"
   ]
  },
  {
   "cell_type": "markdown",
   "metadata": {},
   "source": [
    "## Building K-Means Clustering model from scratch \n",
    "The K-Means clustering algorithm is built below but due to large \"X\" (TF-IDF output), this cannot be run on the original \"X\" due to memory issues and type of \"X\" output. Therefore, a randomised and simplified numeric dataset is built to show how the KMeans clustering algorithm works, without the use of any clustering libraries.   \n",
    "\n",
    "Implementing K-Means clustering:            \n",
    "Step 1: Load data                    \n",
    "Step 2: Calculate Euclidean distance - write a function and call it      \n",
    "Step 3: Write code for K-Means clustering (and call Euclidean distance function)      \n",
    "Step 4: Plotting clusters\n",
    "\n",
    "To properly build a K-Means model, the _sklearn_'s _Kmeans_ library was used to continue the clustering analysis, using \"X\". "
   ]
  },
  {
   "cell_type": "code",
   "execution_count": 8,
   "metadata": {},
   "outputs": [
    {
     "data": {
      "text/plain": [
       "<matplotlib.collections.PathCollection at 0x1eed7d0c518>"
      ]
     },
     "execution_count": 8,
     "metadata": {},
     "output_type": "execute_result"
    },
    {
     "data": {
      "image/png": "[encoded data removed]",
      "text/plain": [
       "<Figure size 432x288 with 1 Axes>"
      ]
     },
     "metadata": {
      "needs_background": "light"
     },
     "output_type": "display_data"
    }
   ],
   "source": [
    "# Preprocessing to build randomised data as example\n",
    "center_1 = np.array([1,2])\n",
    "center_2 = np.array([6,6])\n",
    "center_3 = np.array([9,1])\n",
    "center_4 = np.array([-5,-1])\n",
    "\n",
    "# Generate random data and center it to the four centers each with a different variance\n",
    "np.random.seed(5)\n",
    "data_1 = np.random.randn(200,2) * 1.5 + center_1\n",
    "data_2 = np.random.randn(200,2) * 1 + center_2\n",
    "data_3 = np.random.randn(200,2) * 0.5 + center_3\n",
    "data_4 = np.random.randn(200,2) * 0.8 + center_4\n",
    "data = np.concatenate((data_1, data_2, data_3, data_4), axis = 0)\n",
    "\n",
    "k = 4\n",
    "c = data.shape[1]\n",
    "mean = np.mean(data, axis = 0)\n",
    "std = np.std(data, axis = 0)\n",
    "centers = np.random.randn(k,c)*std + mean\n",
    "\n",
    "\n",
    "# Step 1: Load data\n",
    "df = pd.DataFrame(data)\n",
    "df.shape\n",
    "\n",
    "\n",
    "# Step 2: Function for Euclidean distance\n",
    "def E_dist(data1, data2):\n",
    "    data1 = np.array(data1) \n",
    "    data2 = np.array(data2)\n",
    "    return np.linalg.norm(data1 - data2)\n",
    "\n",
    "\n",
    "# Step 3: Implementing KNN Clustering \n",
    "k = 4\n",
    "n = data.shape[0]\n",
    "colors=['green', 'blue', 'yellow', 'cyan']\n",
    "c = data.shape[1]\n",
    "\n",
    "centers_old = np.zeros(centers.shape)\n",
    "centers_new = centers  # Store new centers\n",
    "clusters = np.zeros(n)\n",
    "distances = np.zeros((n,k))\n",
    "\n",
    "error = E_dist(centers_new, centers_old)\n",
    "while error != 0:  # Update everytime a new center is created\n",
    "    for i in range(k):\n",
    "        distances[:,i] = np.linalg.norm(data - centers[i], axis=1)\n",
    "    clusters = np.argmin(distances, axis = 1)\n",
    "    centers_old = centers_new\n",
    "\n",
    "    for i in range(k):\n",
    "        centers_new[i] = np.mean(data[clusters == i], axis=0)\n",
    "        point=data[clusters == i]\n",
    "        plt.scatter(point[:,0], point[:,1], s=7, c=colors[i])\n",
    "    error = E_dist(centers_new, centers_old)\n",
    "centers_new \n",
    "\n",
    "# Step 4: Plot clusters\n",
    "colors=['green', 'blue', 'yellow', 'cyan']\n",
    "plt.scatter(centers_new[:,0], centers_new[:,1], marker='*', c='red', edgecolor='red', s=150)"
   ]
  },
  {
   "cell_type": "markdown",
   "metadata": {},
   "source": [
    "## Building K-Means model with sklearn library\n",
    "Now that an example of a simple numerical dataset has been used, a K-Means clustering library will be used to conduct the analysis on the text data (\"X\"). "
   ]
  },
  {
   "cell_type": "code",
   "execution_count": 9,
   "metadata": {},
   "outputs": [
    {
     "name": "stderr",
     "output_type": "stream",
     "text": [
      "C:\\Users\\arwas\\Anaconda3\\lib\\site-packages\\sklearn\\cluster\\k_means_.py:971: ConvergenceWarning: Number of distinct clusters (10) found smaller than n_clusters (11). Possibly due to duplicate points in X.\n",
      "  return_n_iter=True)\n",
      "C:\\Users\\arwas\\Anaconda3\\lib\\site-packages\\sklearn\\cluster\\k_means_.py:971: ConvergenceWarning: Number of distinct clusters (10) found smaller than n_clusters (12). Possibly due to duplicate points in X.\n",
      "  return_n_iter=True)\n",
      "C:\\Users\\arwas\\Anaconda3\\lib\\site-packages\\sklearn\\cluster\\k_means_.py:971: ConvergenceWarning: Number of distinct clusters (10) found smaller than n_clusters (13). Possibly due to duplicate points in X.\n",
      "  return_n_iter=True)\n",
      "C:\\Users\\arwas\\Anaconda3\\lib\\site-packages\\sklearn\\cluster\\k_means_.py:971: ConvergenceWarning: Number of distinct clusters (10) found smaller than n_clusters (14). Possibly due to duplicate points in X.\n",
      "  return_n_iter=True)\n"
     ]
    },
    {
     "data": {
      "image/png": "[encoded data removed]",
      "text/plain": [
       "<Figure size 864x288 with 1 Axes>"
      ]
     },
     "metadata": {
      "needs_background": "light"
     },
     "output_type": "display_data"
    }
   ],
   "source": [
    "# Using KMeans library, find the optimal no. of clusters (Elbow Method)\n",
    "number_clusters = range(1, 15)\n",
    "score = []\n",
    "\n",
    "for i in number_clusters:\n",
    "    kmeans = KMeans(n_clusters=i, max_iter=100)\n",
    "    kmeans.fit(X)\n",
    "    score.append(kmeans.inertia_)\n",
    "\n",
    "figure(figsize=(12, 4))\n",
    "plt.plot(number_clusters, score, marker='X')\n",
    "plt.title('Elbow Method')\n",
    "plt.xlabel('Number of Clusters')\n",
    "plt.ylabel('Score')\n",
    "plt.show()"
   ]
  },
  {
   "cell_type": "code",
   "execution_count": 10,
   "metadata": {},
   "outputs": [
    {
     "data": {
      "image/png": "[encoded data removed]",
      "text/plain": [
       "<Figure size 576x576 with 1 Axes>"
      ]
     },
     "metadata": {
      "needs_background": "light"
     },
     "output_type": "display_data"
    }
   ],
   "source": [
    "# Plotting clusters on TSNE plot\n",
    "clusters = MiniBatchKMeans(n_clusters=14, init_size=1024, batch_size=2048, random_state=20).fit_predict(X)\n",
    "\n",
    "def plot_tsne(data, labels, num):\n",
    "    max_label = max(labels)\n",
    "    max_items = np.random.choice(range(data.shape[0]), size=num, replace=False)\n",
    "    pca = PCA(n_components=2).fit_transform(data[max_items,:].todense())\n",
    "    tsne = TSNE().fit_transform(PCA(n_components=9).fit_transform(data[max_items,:].todense()))\n",
    "    \n",
    "    idx = np.random.choice(range(pca.shape[0]), size=num, replace=False)\n",
    "    label_subset = labels[max_items]\n",
    "    label_subset = [cm.hsv(i/max_label) for i in label_subset[idx]]\n",
    "    figure(figsize=(8, 8))\n",
    "    plt.scatter(tsne[idx, 0], tsne[idx, 1], c=label_subset)\n",
    "    plt.title('TSNE Cluster Plot')\n",
    "    \n",
    "plot_tsne(X, clusters, 80)"
   ]
  },
  {
   "cell_type": "markdown",
   "metadata": {},
   "source": [
    "## Implementing LDA to find topics"
   ]
  },
  {
   "cell_type": "code",
   "execution_count": 11,
   "metadata": {},
   "outputs": [
    {
     "name": "stdout",
     "output_type": "stream",
     "text": [
      "[(0, '0.302*\"gun\"'), (1, '0.292*\"crabappl\"'), (2, '0.571*\"polit\"'), (3, '0.605*\"talk\"'), (4, '0.112*\"c\"'), (5, '0.056*\"15\"'), (6, '0.137*\"soc\"'), (7, '0.327*\"misc\"'), (8, '0.370*\"cantal\"'), (9, '0.276*\"club\"')]\n"
     ]
    }
   ],
   "source": [
    "texts = [t.split() for t in texts]\n",
    "dictionary = corpora.Dictionary(texts)\n",
    "corpus = [dictionary.doc2bow(text) for text in texts]\n",
    "\n",
    "no_topics = 10\n",
    "ldamodel = gensim.models.ldamodel.LdaModel(corpus, num_topics=no_topics, id2word = dictionary, passes=20)\n",
    "print(ldamodel.print_topics(num_topics=no_topics, num_words=1))"
   ]
  },
  {
   "cell_type": "code",
   "execution_count": 12,
   "metadata": {},
   "outputs": [],
   "source": [
    "labels = vectorizer.get_feature_names()"
   ]
  },
  {
   "cell_type": "code",
   "execution_count": 13,
   "metadata": {},
   "outputs": [
    {
     "name": "stdout",
     "output_type": "stream",
     "text": [
      "\n",
      "Cluster 0\n",
      "talk\n",
      "\n",
      "Cluster 1\n",
      "talk\n",
      "\n",
      "Cluster 2\n",
      "polit\n",
      "\n",
      "Cluster 3\n",
      "cantal\n",
      "\n",
      "Cluster 4\n",
      "gun\n",
      "\n",
      "Cluster 5\n",
      "crabappl\n",
      "\n",
      "Cluster 6\n",
      "misc\n",
      "\n",
      "Cluster 7\n",
      "club\n",
      "\n",
      "Cluster 8\n",
      "alt\n",
      "\n",
      "Cluster 9\n",
      "magnesium\n"
     ]
    }
   ],
   "source": [
    "df = pd.DataFrame(X.todense()).groupby(clusters).mean()\n",
    "for i, r in df.iterrows():\n",
    "    print('\\nCluster {}'.format(i))\n",
    "    print(','.join([labels[t] for t in np.argsort(r)[-1:]]))"
   ]
  }
 ],
 "metadata": {
  "kernelspec": {
   "display_name": "Python 3",
   "language": "python",
   "name": "python3"
  },
  "language_info": {
   "codemirror_mode": {
    "name": "ipython",
    "version": 3
   },
   "file_extension": ".py",
   "mimetype": "text/x-python",
   "name": "python",
   "nbconvert_exporter": "python",
   "pygments_lexer": "ipython3",
   "version": "3.7.1"
  }
 },
 "nbformat": 4,
 "nbformat_minor": 2
}
