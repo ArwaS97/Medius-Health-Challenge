{
 "cells": [
  {
   "cell_type": "markdown",
   "metadata": {},
   "source": [
    "# Medius Health Data Science Challenge\n",
    "By Arwa Siddiqui\n",
    "\n",
    "------------------------------------------------------------\n",
    "\n",
    "### For the challenge: \n",
    "#### Data Description: \n",
    "1. Dataset is provided in “data” folder. Each file in the data folder is considered as a document.\n",
    "2. There are 300 documents.\n",
    "3. Each document has some text information.\n",
    "\n",
    "#### Task Description: \n",
    "Grouping documents with the same semantic description into clusters. \n",
    "1. Process the text data in each document/file using NLP, data processing, text mining.\n",
    "3. Develop a model to partition the data into multiple clusters. It is required to develop the end-to-end model in python instead of using any data clustering libraries or pre-trained models.\n",
    "\n",
    "The **outcome** of the model: \n",
    "1. Number of clusters and the data points in each cluster. \n",
    "2. Report the number of clusters found in the data.\n",
    "3. Find out the topics of each cluster. (You can run any benchmark off-the-shelf topic modelling algorithm like Latent Dirichlet Allocation (LDA) or PLSA)\n",
    "4. If possible, visualize the cluster. (bonus point)"
   ]
  },
  {
   "cell_type": "markdown",
   "metadata": {},
   "source": [
    "### To answer the challenge, the following notebook is set-up:\n",
    "1. **Load imports/libraries**\n",
    "2. **Process text files/documents to extract information**     \n",
    "    * Extract files to make dataframe\n",
    "    * Text mining, use NLTK to tokenize documents, remove stop-words, etc.   \n",
    "    * Use Stemmer   \n",
    "    * Use Frequency Dist to plot most common words \n",
    "    * Perform TF-IDF Vectorizer\n",
    "3. **Building K-Means model, without clustering libraries (using sample numeric data)**\n",
    "    * Create sample data as an example\n",
    "    * Build K-Means algorithm from scratch \n",
    "    * Plot clusters of sample data\n",
    "4. **Building K-Means model, with clustering libraries (using original text data from (1))**\n",
    "    * Using *KMeans* from *sklearn* library to model document data\n",
    "    * Find and plot optimal number of clusters, using Elbow Method  \n",
    "5. **Perform LDA to find topics in clusters**\n",
    "6. **Plot TSNE plot to visualise clusters**"
   ]
  },
  {
   "cell_type": "markdown",
   "metadata": {},
   "source": [
    "## Load imports "
   ]
  },
  {
   "cell_type": "code",
   "execution_count": 1,
   "metadata": {},
   "outputs": [
    {
     "name": "stderr",
     "output_type": "stream",
     "text": [
      "\n",
      "Bad key \"text.kerning_factor\" on line 4 in\n",
      "C:\\Users\\arwas\\Anaconda3\\lib\\site-packages\\matplotlib\\mpl-data\\stylelib\\_classic_test_patch.mplstyle.\n",
      "You probably need to get an updated matplotlibrc file from\n",
      "http://github.com/matplotlib/matplotlib/blob/master/matplotlibrc.template\n",
      "or from the matplotlib source distribution\n"
     ]
    }
   ],
   "source": [
    "# Import required libraries \n",
    "import os\n",
    "import re\n",
    "from csv import reader\n",
    "import numpy as np\n",
    "import pandas as pd\n",
    "import random as rd\n",
    "from collections import defaultdict\n",
    "from pathlib import Path\n",
    "\n",
    "import matplotlib.pyplot as plt\n",
    "from matplotlib.pyplot import figure\n",
    "import matplotlib.cm as cm\n",
    "%matplotlib inline\n",
    "\n",
    "import nltk\n",
    "from nltk.probability import FreqDist\n",
    "from nltk.tokenize import word_tokenize, RegexpTokenizer\n",
    "from nltk.corpus import stopwords\n",
    "from nltk.stem.porter import PorterStemmer\n",
    "from nltk.stem import WordNetLemmatizer\n",
    "\n",
    "import sklearn \n",
    "from sklearn.cluster import KMeans\n",
    "from sklearn.cluster import MiniBatchKMeans\n",
    "from sklearn.feature_extraction.text import TfidfVectorizer\n",
    "from sklearn.decomposition import PCA\n",
    "from sklearn.manifold import TSNE\n",
    "\n",
    "import gensim\n",
    "from gensim import corpora, models"
   ]
  },
  {
   "cell_type": "markdown",
   "metadata": {},
   "source": [
    "## Text Mining and Processing"
   ]
  },
  {
   "cell_type": "code",
   "execution_count": 2,
   "metadata": {},
   "outputs": [
    {
     "name": "stdout",
     "output_type": "stream",
     "text": [
      "Number of documents: 300\n"
     ]
    }
   ],
   "source": [
    "# Access documents from Dataset\n",
    "\n",
    "flist = []\n",
    "for root, dirs, files in os.walk('data/'):\n",
    "    flist += [os.path.join(root, f) for f in files]\n",
    "flist.pop(0)\n",
    "print(\"Number of documents:\", len(flist)) #Get a list of all files under the current directory"
   ]
  },
  {
   "cell_type": "code",
   "execution_count": 3,
   "metadata": {},
   "outputs": [
    {
     "data": {
      "text/html": [
       "<div>\n",
       "<style scoped>\n",
       "    .dataframe tbody tr th:only-of-type {\n",
       "        vertical-align: middle;\n",
       "    }\n",
       "\n",
       "    .dataframe tbody tr th {\n",
       "        vertical-align: top;\n",
       "    }\n",
       "\n",
       "    .dataframe thead th {\n",
       "        text-align: right;\n",
       "    }\n",
       "</style>\n",
       "<table border=\"1\" class=\"dataframe\">\n",
       "  <thead>\n",
       "    <tr style=\"text-align: right;\">\n",
       "      <th></th>\n",
       "      <th>filename</th>\n",
       "      <th>text</th>\n",
       "    </tr>\n",
       "  </thead>\n",
       "  <tbody>\n",
       "    <tr>\n",
       "      <th>0</th>\n",
       "      <td>176869</td>\n",
       "      <td>Xref: cantaloupe.srv.cs.cmu.edu talk.politics....</td>\n",
       "    </tr>\n",
       "    <tr>\n",
       "      <th>1</th>\n",
       "      <td>176878</td>\n",
       "      <td>Xref: cantaloupe.srv.cs.cmu.edu talk.politics....</td>\n",
       "    </tr>\n",
       "    <tr>\n",
       "      <th>2</th>\n",
       "      <td>176881</td>\n",
       "      <td>Xref: cantaloupe.srv.cs.cmu.edu talk.politics....</td>\n",
       "    </tr>\n",
       "    <tr>\n",
       "      <th>3</th>\n",
       "      <td>176884</td>\n",
       "      <td>Xref: cantaloupe.srv.cs.cmu.edu misc.headlines...</td>\n",
       "    </tr>\n",
       "    <tr>\n",
       "      <th>4</th>\n",
       "      <td>176886</td>\n",
       "      <td>Path: cantaloupe.srv.cs.cmu.edu!crabapple.srv....</td>\n",
       "    </tr>\n",
       "  </tbody>\n",
       "</table>\n",
       "</div>"
      ],
      "text/plain": [
       "  filename                                               text\n",
       "0   176869  Xref: cantaloupe.srv.cs.cmu.edu talk.politics....\n",
       "1   176878  Xref: cantaloupe.srv.cs.cmu.edu talk.politics....\n",
       "2   176881  Xref: cantaloupe.srv.cs.cmu.edu talk.politics....\n",
       "3   176884  Xref: cantaloupe.srv.cs.cmu.edu misc.headlines...\n",
       "4   176886  Path: cantaloupe.srv.cs.cmu.edu!crabapple.srv...."
      ]
     },
     "execution_count": 3,
     "metadata": {},
     "output_type": "execute_result"
    }
   ],
   "source": [
    "# Read documents into one document (i.e. list)\n",
    "\n",
    "my_dir_path = \"./Medius-Health-Challenge/data\"\n",
    "results = defaultdict(list)\n",
    "for file in flist:\n",
    "    with open(file, \"r\") as file_open:\n",
    "        results[\"filename\"].append(file.replace(\"data/\", \"\"))\n",
    "        results[\"text\"].append(file_open.read())\n",
    "df = pd.DataFrame(results) #Create Dataframe\n",
    "df.head()"
   ]
  },
  {
   "cell_type": "code",
   "execution_count": 4,
   "metadata": {},
   "outputs": [],
   "source": [
    "# Pre-process documents data - (fixed code)\n",
    "text = re.sub(r'\\d+', '', str(df['text'])) #remove unnecessary tabs, newlines, digits\n",
    "tokenizer = RegexpTokenizer(r'\\w+') #remove any punctuations\n",
    "tokens = tokenizer.tokenize(text)"
   ]
  },
  {
   "cell_type": "code",
   "execution_count": 5,
   "metadata": {},
   "outputs": [],
   "source": [
    "# Lower case all words and make sorted vocabulary \n",
    "raw_words = [w.lower() for w in tokens]\n",
    "stop_words = set(stopwords.words(\"english\"))\n",
    "new_words = []\n",
    "for w in raw_words:\n",
    "    if w not in stop_words:\n",
    "        new_words.append(w)\n",
    "        \n",
    "# Remove unnecessary words, email addresses, category levels, etc.        \n",
    "remove_words = ['edu', 'com', 'cmu', 'cs', 'cantaloupe', 'srv', 'newsgroups', 'cantaloupe','cantalou', \n",
    "               'xref', 'subject', 'id', 'message', 'from', 'date', 'sender', 'npath', 'c', \n",
    "               'references', 'organization', 'lines', 'path', 'misc', 'alt', 'talk']\n",
    "words = []\n",
    "for w in new_words:  \n",
    "    if w not in remove_words:\n",
    "        words.append(w)\n",
    "\n",
    "# Perform Stemmer \n",
    "# p_stemmer = PorterStemmer()\n",
    "# texts = [p_stemmer.stem(i) for i in words]\n",
    "\n",
    "# Perform Lemmatization - (better than Stemmer)\n",
    "lemmatizer = WordNetLemmatizer()\n",
    "texts = [lemmatizer.lemmatize(i) for i in words]"
   ]
  },
  {
   "cell_type": "code",
   "execution_count": 6,
   "metadata": {},
   "outputs": [
    {
     "data": {
      "text/plain": [
       "[('politics', 34),\n",
       " ('gun', 11),\n",
       " ('crabapple', 8),\n",
       " ('magnesium', 7),\n",
       " ('club', 7),\n",
       " ('soc', 3),\n",
       " ('culture', 3),\n",
       " ('headline', 2),\n",
       " ('activism', 2),\n",
       " ('abortion', 2)]"
      ]
     },
     "execution_count": 6,
     "metadata": {},
     "output_type": "execute_result"
    }
   ],
   "source": [
    "# Find highest frequency of words\n",
    "fdist = FreqDist(texts)\n",
    "fdist.most_common(10)"
   ]
  },
  {
   "cell_type": "code",
   "execution_count": 7,
   "metadata": {},
   "outputs": [
    {
     "data": {
      "image/png": "[encoded data removed]",
      "text/plain": [
       "<Figure size 720x288 with 1 Axes>"
      ]
     },
     "metadata": {
      "needs_background": "light"
     },
     "output_type": "display_data"
    }
   ],
   "source": [
    "# Plot highest frequency of words\n",
    "figure(figsize=(10, 4))\n",
    "fdist.plot(10, cumulative=False)\n",
    "plt.show()"
   ]
  },
  {
   "cell_type": "code",
   "execution_count": 8,
   "metadata": {},
   "outputs": [],
   "source": [
    "# Perform TF-IDF Vectorizer/Transformer\n",
    "vectorizer = TfidfVectorizer(min_df = 5,\n",
    "                             max_df = 0.95,\n",
    "                             max_features = 8000,\n",
    "                             stop_words='english')\n",
    "X = vectorizer.fit_transform(texts)"
   ]
  },
  {
   "cell_type": "markdown",
   "metadata": {},
   "source": [
    "## Building K-Means Clustering model from scratch \n",
    "The K-Means clustering algorithm is built below, without the use of clustering libraries. \n",
    "\n",
    "However, due to large \"X\" (TF-IDF output), this code cannot be run on the original document data due to memory issues and type of output. Therefore, a randomised and simplified numeric dataset is created to show how the K-Means clustering algorithm works, without the use of any clustering libraries.   \n",
    "\n",
    "**Implementing K-Means clustering:**             \n",
    "Step 1: Load data                    \n",
    "Step 2: Calculate Euclidean distance - write a function and call it      \n",
    "Step 3: Write code for K-Means clustering (and call Euclidean distance function)      \n",
    "Step 4: Plotting clusters\n",
    "\n",
    "To properly build a K-Means model, the _sklearn_'s _Kmeans_ library was used to continue the clustering analysis, using \"X\". "
   ]
  },
  {
   "cell_type": "code",
   "execution_count": 9,
   "metadata": {},
   "outputs": [
    {
     "data": {
      "text/plain": [
       "<matplotlib.collections.PathCollection at 0x15fd3fd7390>"
      ]
     },
     "execution_count": 9,
     "metadata": {},
     "output_type": "execute_result"
    },
    {
     "data": {
      "image/png": "[encoded data removed]",
      "text/plain": [
       "<Figure size 432x288 with 1 Axes>"
      ]
     },
     "metadata": {
      "needs_background": "light"
     },
     "output_type": "display_data"
    }
   ],
   "source": [
    "# Preprocessing to build randomised data as example\n",
    "\n",
    "# Assigning centers of clusters\n",
    "center_1 = np.array([1,2])\n",
    "center_2 = np.array([6,6])\n",
    "center_3 = np.array([9,1])\n",
    "center_4 = np.array([-5,-1])\n",
    "\n",
    "# Generate random data and assign it to the four centers, each with a different variance\n",
    "np.random.seed(5)\n",
    "data_1 = np.random.randn(200,2) * 1.5 + center_1\n",
    "data_2 = np.random.randn(200,2) * 1 + center_2\n",
    "data_3 = np.random.randn(200,2) * 0.5 + center_3\n",
    "data_4 = np.random.randn(200,2) * 0.8 + center_4\n",
    "data = np.concatenate((data_1, data_2, data_3, data_4), axis = 0)\n",
    "\n",
    "# Assign no. of clusters, mean, std, etc. \n",
    "k = 4 #four clusters\n",
    "c = data.shape[1] #features of data\n",
    "mean = np.mean(data, axis = 0)\n",
    "std = np.std(data, axis = 0)\n",
    "centers = np.random.randn(k,c)*std + mean\n",
    "\n",
    "\n",
    "# Step 1: Load data\n",
    "df = pd.DataFrame(data)\n",
    "df.shape\n",
    "\n",
    "\n",
    "# Step 2: Function for Euclidean distance\n",
    "def E_dist(data1, data2):\n",
    "    data1 = np.array(data1) \n",
    "    data2 = np.array(data2)\n",
    "    return np.linalg.norm(data1 - data2)\n",
    "\n",
    "\n",
    "# Step 3: Implementing K-Means Clustering \n",
    "k = 4\n",
    "n = data.shape[0]\n",
    "c = data.shape[1]\n",
    "colors=['green', 'blue', 'yellow', 'cyan'] #assign colours to data\n",
    "\n",
    "centers_old = np.zeros(centers.shape)\n",
    "centers_new = centers  # Store new centers\n",
    "clusters = np.zeros(n)\n",
    "distances = np.zeros((n,k))\n",
    "\n",
    "error = E_dist(centers_new, centers_old)\n",
    "while error != 0:  # Update everytime a new center is created\n",
    "    for i in range(k):\n",
    "        distances[:,i] = np.linalg.norm(data - centers[i], axis=1)\n",
    "    clusters = np.argmin(distances, axis = 1)\n",
    "    centers_old = centers_new\n",
    "\n",
    "    for i in range(k):\n",
    "        centers_new[i] = np.mean(data[clusters == i], axis=0)\n",
    "        point=data[clusters == i]\n",
    "        \n",
    "        plt.scatter(point[:,0], point[:,1], s=7, c=colors[i])\n",
    "    error = E_dist(centers_new, centers_old)\n",
    "centers_new \n",
    "\n",
    "# Step 4: Plot clusters\n",
    "plt.scatter(centers_new[:,0], centers_new[:,1], marker='*', c='red', edgecolor='red', s=150) #red star = centers of clusters"
   ]
  },
  {
   "cell_type": "markdown",
   "metadata": {},
   "source": [
    "## Building K-Means model with sklearn library\n",
    "Previously, an example of a simple numerical dataset was used to perform K-Means clustering. \n",
    "Now, a K-Means clustering library (*sklearn's KMeans*) will be used to conduct the analysis on the original text data (\"X\" from the TF-IDF Vectorizer/Transformer output). \n",
    "\n",
    "First, the optimal number of clusters is found by using the \"Elbow Method\". \n",
    "**The optimal number of clusters = 6.** "
   ]
  },
  {
   "cell_type": "code",
   "execution_count": 10,
   "metadata": {},
   "outputs": [
    {
     "name": "stderr",
     "output_type": "stream",
     "text": [
      "C:\\Users\\arwas\\Anaconda3\\lib\\site-packages\\sklearn\\cluster\\k_means_.py:971: ConvergenceWarning: Number of distinct clusters (6) found smaller than n_clusters (7). Possibly due to duplicate points in X.\n",
      "  return_n_iter=True)\n",
      "C:\\Users\\arwas\\Anaconda3\\lib\\site-packages\\sklearn\\cluster\\k_means_.py:971: ConvergenceWarning: Number of distinct clusters (6) found smaller than n_clusters (8). Possibly due to duplicate points in X.\n",
      "  return_n_iter=True)\n",
      "C:\\Users\\arwas\\Anaconda3\\lib\\site-packages\\sklearn\\cluster\\k_means_.py:971: ConvergenceWarning: Number of distinct clusters (6) found smaller than n_clusters (9). Possibly due to duplicate points in X.\n",
      "  return_n_iter=True)\n"
     ]
    },
    {
     "data": {
      "image/png": "[encoded data removed]",
      "text/plain": [
       "<Figure size 864x288 with 1 Axes>"
      ]
     },
     "metadata": {
      "needs_background": "light"
     },
     "output_type": "display_data"
    }
   ],
   "source": [
    "# Using KMeans library, find the optimal no. of clusters (Elbow Method)\n",
    "number_clusters = range(1, 10)\n",
    "score = []\n",
    "\n",
    "for i in number_clusters:\n",
    "    kmeans = KMeans(n_clusters=i, max_iter=100)\n",
    "    kmeans.fit(X)\n",
    "    score.append(kmeans.inertia_)\n",
    "\n",
    "figure(figsize=(12, 4))\n",
    "plt.plot(number_clusters, score, marker='X')\n",
    "plt.title('Elbow Method')\n",
    "plt.xlabel('Number of Clusters')\n",
    "plt.ylabel('Score')\n",
    "plt.show()"
   ]
  },
  {
   "cell_type": "markdown",
   "metadata": {},
   "source": [
    "## Implementing LDA to find topics\n",
    "Latent Dirichlet Allocation (LDA) is performed to find the topics of the clusters. In descending order of size, they are listed as: \n",
    "* Cluster 0: gun\n",
    "* Cluster 1 & 2: politics\n",
    "* Cluster 3: crabapple\n",
    "* Cluster 4: club\n",
    "* Cluster 5: magnesium\n",
    "\n",
    "The LDA code used here is referenced from this [link](https://rstudio-pubs-static.s3.amazonaws.com/79360_850b2a69980c4488b1db95987a24867a.html)."
   ]
  },
  {
   "cell_type": "code",
   "execution_count": 11,
   "metadata": {},
   "outputs": [
    {
     "name": "stdout",
     "output_type": "stream",
     "text": [
      "[(0, '0.288*\"soc\" + 0.106*\"object\"'), (1, '0.371*\"crabapple\" + 0.144*\"culture\"'), (2, '0.507*\"gun\" + 0.053*\"legal\"'), (3, '0.478*\"club\" + 0.078*\"ca\"'), (4, '0.777*\"politics\" + 0.049*\"activism\"'), (5, '0.478*\"magnesium\" + 0.144*\"abortion\"')]\n"
     ]
    }
   ],
   "source": [
    "# Building corpus to implement into LDA\n",
    "\n",
    "text = [t.split() for t in texts]\n",
    "dictionary = corpora.Dictionary(text)\n",
    "corpus = [dictionary.doc2bow(t) for t in text]\n",
    "\n",
    "no_topics = 6\n",
    "ldamodel = gensim.models.ldamodel.LdaModel(corpus, num_topics=no_topics, id2word = dictionary, passes=20)\n",
    "print(ldamodel.print_topics(num_topics=no_topics, num_words=2))"
   ]
  },
  {
   "cell_type": "code",
   "execution_count": 12,
   "metadata": {},
   "outputs": [
    {
     "name": "stdout",
     "output_type": "stream",
     "text": [
      "\n",
      "Cluster 0\n",
      "gun\n",
      "\n",
      "Cluster 1\n",
      "politics\n",
      "\n",
      "Cluster 2\n",
      "politics\n",
      "\n",
      "Cluster 3\n",
      "crabapple\n",
      "\n",
      "Cluster 4\n",
      "club\n",
      "\n",
      "Cluster 5\n",
      "magnesium\n"
     ]
    }
   ],
   "source": [
    "# Topics of clusters (visualised in next section)\n",
    "\n",
    "labels = vectorizer.get_feature_names()\n",
    "\n",
    "clusters = MiniBatchKMeans(n_clusters=6, init_size=1024, batch_size=2048, random_state=20).fit_predict(X)\n",
    "df = pd.DataFrame(X.todense()).groupby(clusters).mean()\n",
    "for i, r in df.iterrows():\n",
    "    print('\\nCluster {}'.format(i))\n",
    "    print(','.join([labels[t] for t in np.argsort(r)[-1:]]))"
   ]
  },
  {
   "cell_type": "markdown",
   "metadata": {},
   "source": [
    "## Plot Clusters as TSNE Plot\n",
    "In the plot, 6 clear clusters can be seen. Red consists of 2 seperate clusters (one large and one smaller), but are made up of the same topics. \n",
    "\n",
    "The TSNE code used here is referenced from this [link](https://www.kaggle.com/jbencina/clustering-documents-with-tfidf-and-kmeans/notebook)."
   ]
  },
  {
   "cell_type": "code",
   "execution_count": 13,
   "metadata": {},
   "outputs": [
    {
     "data": {
      "image/png": "[encoded data removed]",
      "text/plain": [
       "<Figure size 576x576 with 1 Axes>"
      ]
     },
     "metadata": {
      "needs_background": "light"
     },
     "output_type": "display_data"
    }
   ],
   "source": [
    "# Plotting clusters on TSNE plot\n",
    "\n",
    "def plot_tsne(data, labels, num):\n",
    "    max_label = max(labels)\n",
    "    max_items = np.random.choice(range(data.shape[0]), size=num, replace=False)\n",
    "    pca = PCA(n_components=2).fit_transform(data[max_items,:].todense())\n",
    "    tsne = TSNE().fit_transform(PCA(n_components=5).fit_transform(data[max_items,:].todense()))\n",
    "    \n",
    "    idx = np.random.choice(range(pca.shape[0]), size=num, replace=False)\n",
    "    label_subset = labels[max_items]\n",
    "    label_subset = [cm.hsv(i/max_label) for i in label_subset[idx]]\n",
    "    figure(figsize=(8, 8))\n",
    "    plt.scatter(tsne[idx, 0], tsne[idx, 1], c=label_subset)\n",
    "    plt.title('TSNE Cluster Plot')\n",
    "    \n",
    "plot_tsne(X, clusters, 50)"
   ]
  },
  {
   "cell_type": "code",
   "execution_count": null,
   "metadata": {},
   "outputs": [],
   "source": []
  }
 ],
 "metadata": {
  "kernelspec": {
   "display_name": "Python 3",
   "language": "python",
   "name": "python3"
  },
  "language_info": {
   "codemirror_mode": {
    "name": "ipython",
    "version": 3
   },
   "file_extension": ".py",
   "mimetype": "text/x-python",
   "name": "python",
   "nbconvert_exporter": "python",
   "pygments_lexer": "ipython3",
   "version": "3.7.1"
  }
 },
 "nbformat": 4,
 "nbformat_minor": 2
}
