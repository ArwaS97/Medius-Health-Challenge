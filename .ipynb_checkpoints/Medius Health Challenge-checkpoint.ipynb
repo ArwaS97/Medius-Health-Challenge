{
 "cells": [
  {
   "cell_type": "markdown",
   "metadata": {},
   "source": [
    "# Medius Health Data Science Challenge\n",
    "By Arwa Siddiqui\n",
    "\n",
    "#### Data Description: \n",
    "1. Dataset is provided in “data” folder. Each file in the data folder is considered as a document.\n",
    "2. There are 300 documents.\n",
    "3. Each document has some text information.\n",
    "\n",
    "#### Task Description: \n",
    "Grouping documents with the same semantic description into clusters. \n",
    "1. Process the text data in each document/file using NLP, data processing, text mining.\n",
    "3. Develop a model to partition the data into multiple clusters. It is required to develop the end-to-end model in python instead of using any data clustering libraries or pre-trained models.\n",
    "\n",
    "The **outcome** of the model: \n",
    "1. Number of clusters and the data points in each cluster. \n",
    "2. Report the number of clusters found in the data.\n",
    "3. Find out the topics of each cluster. (You can run any benchmark off-the-shelf topic modelling algorithm like Latent Dirichlet Allocation (LDA) or PLSA)\n",
    "4. If possible, visualize the cluster. (bonus point)"
   ]
  },
  {
   "cell_type": "markdown",
   "metadata": {},
   "source": [
    "## Load imports "
   ]
  },
  {
   "cell_type": "code",
   "execution_count": 1,
   "metadata": {},
   "outputs": [
    {
     "name": "stderr",
     "output_type": "stream",
     "text": [
      "\n",
      "Bad key \"text.kerning_factor\" on line 4 in\n",
      "C:\\Users\\arwas\\Anaconda3\\lib\\site-packages\\matplotlib\\mpl-data\\stylelib\\_classic_test_patch.mplstyle.\n",
      "You probably need to get an updated matplotlibrc file from\n",
      "http://github.com/matplotlib/matplotlib/blob/master/matplotlibrc.template\n",
      "or from the matplotlib source distribution\n"
     ]
    }
   ],
   "source": [
    "# Import libraries \n",
    "import os\n",
    "import re\n",
    "from collections import defaultdict\n",
    "from pathlib import Path\n",
    "from csv import reader\n",
    "import numpy as np\n",
    "import pandas as pd\n",
    "import random as rd\n",
    "import matplotlib.pyplot as plt\n",
    "from matplotlib.pyplot import figure\n",
    "%matplotlib inline\n",
    "\n",
    "import nltk\n",
    "from nltk.probability import FreqDist\n",
    "from nltk.tokenize import word_tokenize, RegexpTokenizer\n",
    "from nltk.corpus import stopwords\n",
    "from nltk.stem.wordnet import WordNetLemmatizer\n",
    "from nltk.stem.lancaster import LancasterStemmer\n",
    "from nltk.stem.porter import PorterStemmer\n",
    "from sklearn.feature_extraction.text import TfidfTransformer, TfidfVectorizer\n",
    "\n",
    "from sklearn.cluster import KMeans"
   ]
  },
  {
   "cell_type": "markdown",
   "metadata": {},
   "source": [
    "# Process Text Documents"
   ]
  },
  {
   "cell_type": "code",
   "execution_count": 8,
   "metadata": {},
   "outputs": [
    {
     "name": "stdout",
     "output_type": "stream",
     "text": [
      "Number of documents: 300\n"
     ]
    }
   ],
   "source": [
    "# Access documents from Dataset\n",
    "# Get a list of all files under the current directory\n",
    "flist = []\n",
    "for root, dirs, files in os.walk('data/'):\n",
    "    flist += [os.path.join(root, f) for f in files]\n",
    "flist.pop(0)\n",
    "print(\"Number of documents:\", len(flist))"
   ]
  },
  {
   "cell_type": "code",
   "execution_count": 34,
   "metadata": {},
   "outputs": [
    {
     "data": {
      "text/html": [
       "<div>\n",
       "<style scoped>\n",
       "    .dataframe tbody tr th:only-of-type {\n",
       "        vertical-align: middle;\n",
       "    }\n",
       "\n",
       "    .dataframe tbody tr th {\n",
       "        vertical-align: top;\n",
       "    }\n",
       "\n",
       "    .dataframe thead th {\n",
       "        text-align: right;\n",
       "    }\n",
       "</style>\n",
       "<table border=\"1\" class=\"dataframe\">\n",
       "  <thead>\n",
       "    <tr style=\"text-align: right;\">\n",
       "      <th></th>\n",
       "      <th>filename</th>\n",
       "      <th>text</th>\n",
       "    </tr>\n",
       "  </thead>\n",
       "  <tbody>\n",
       "    <tr>\n",
       "      <th>0</th>\n",
       "      <td>176869</td>\n",
       "      <td>Xref: cantaloupe.srv.cs.cmu.edu talk.politics....</td>\n",
       "    </tr>\n",
       "    <tr>\n",
       "      <th>1</th>\n",
       "      <td>176878</td>\n",
       "      <td>Xref: cantaloupe.srv.cs.cmu.edu talk.politics....</td>\n",
       "    </tr>\n",
       "    <tr>\n",
       "      <th>2</th>\n",
       "      <td>176881</td>\n",
       "      <td>Xref: cantaloupe.srv.cs.cmu.edu talk.politics....</td>\n",
       "    </tr>\n",
       "    <tr>\n",
       "      <th>3</th>\n",
       "      <td>176884</td>\n",
       "      <td>Xref: cantaloupe.srv.cs.cmu.edu misc.headlines...</td>\n",
       "    </tr>\n",
       "    <tr>\n",
       "      <th>4</th>\n",
       "      <td>176886</td>\n",
       "      <td>Path: cantaloupe.srv.cs.cmu.edu!crabapple.srv....</td>\n",
       "    </tr>\n",
       "  </tbody>\n",
       "</table>\n",
       "</div>"
      ],
      "text/plain": [
       "  filename                                               text\n",
       "0   176869  Xref: cantaloupe.srv.cs.cmu.edu talk.politics....\n",
       "1   176878  Xref: cantaloupe.srv.cs.cmu.edu talk.politics....\n",
       "2   176881  Xref: cantaloupe.srv.cs.cmu.edu talk.politics....\n",
       "3   176884  Xref: cantaloupe.srv.cs.cmu.edu misc.headlines...\n",
       "4   176886  Path: cantaloupe.srv.cs.cmu.edu!crabapple.srv...."
      ]
     },
     "execution_count": 34,
     "metadata": {},
     "output_type": "execute_result"
    }
   ],
   "source": [
    "# Read documents into one document (i.e. list)\n",
    "\n",
    "data_list = []\n",
    "for file in flist: \n",
    "    f = open(file, \"r\")\n",
    "    text = f.read()\n",
    "    data_list.append(text)\n",
    "    f.close()"
   ]
  },
  {
   "cell_type": "code",
   "execution_count": 35,
   "metadata": {},
   "outputs": [],
   "source": [
    "# Remove unnecessary characters from dataset\n",
    "raw = str(data_list).strip('[]')\n",
    "#raw = str(re.split(r\"\\\\\\\\n\", raw))\n",
    "raw = str(re.split(\"\\n|\\t|\\\\\\\\n|\\\\\\\\t\", raw))\n",
    "\n",
    "# Tokenize data (words & sentences)\n",
    "tokenizer = RegexpTokenizer(r'\\w+')\n",
    "#tokens = word_tokenize(raw)\n",
    "tokens = tokenizer.tokenize(raw)\n",
    "sents = nltk.sent_tokenize(raw)\n",
    "\n",
    "# Lower case all words and make sorted vocabulary \n",
    "raw_words = [w.lower() for w in tokens]\n",
    "stop_words = set(stopwords.words(\"english\"))\n",
    "new_words = []\n",
    "for w in raw_words:\n",
    "    if w not in stop_words:\n",
    "        new_words.append(w)\n",
    "        \n",
    "remove_words = ['edu', 'com', 'cmu', 'cs', 'cantaloupe', 'srv', 'newsgroups', 'cantaloupe', \n",
    "               'xref', 'subject', 'id', 'message', 'from', 'date', 'sender', \n",
    "               'references', 'organization', 'lines', 'path']\n",
    "words = []\n",
    "for w in new_words:  \n",
    "    if w not in remove_words:\n",
    "        words.append(w)"
   ]
  },
  {
   "cell_type": "code",
   "execution_count": 36,
   "metadata": {},
   "outputs": [],
   "source": [
    "# # Perform Lemmatisation and Stemming\n",
    "# lem = WordNetLemmatizer()\n",
    "# stem = PorterStemmer()\n",
    "# words = lem.lemmatize(str(words), \"v\")\n",
    "# words = stem.stem(str(words))"
   ]
  },
  {
   "cell_type": "code",
   "execution_count": 37,
   "metadata": {},
   "outputs": [
    {
     "data": {
      "text/plain": [
       "[('news', 601),\n",
       " ('politics', 462),\n",
       " ('talk', 461),\n",
       " ('state', 378),\n",
       " ('net', 375),\n",
       " ('image', 353),\n",
       " ('would', 340),\n",
       " ('apr', 316),\n",
       " ('misc', 310),\n",
       " ('graphics', 306)]"
      ]
     },
     "execution_count": 37,
     "metadata": {},
     "output_type": "execute_result"
    }
   ],
   "source": [
    "# Plot highest frequency of words\n",
    "fdist = FreqDist(words)\n",
    "fdist.most_common(10)"
   ]
  },
  {
   "cell_type": "code",
   "execution_count": 38,
   "metadata": {},
   "outputs": [
    {
     "data": {
      "image/png": "[encoded data removed]",
      "text/plain": [
       "<Figure size 1080x288 with 1 Axes>"
      ]
     },
     "metadata": {
      "needs_background": "light"
     },
     "output_type": "display_data"
    }
   ],
   "source": [
    "figure(figsize=(15, 4))\n",
    "fdist.plot(50, cumulative=False)\n",
    "plt.show()"
   ]
  },
  {
   "cell_type": "code",
   "execution_count": 8,
   "metadata": {},
   "outputs": [],
   "source": [
    "vectorizer = TfidfVectorizer(stop_words='english')\n",
    "X = vectorizer.fit_transform(words)"
   ]
  },
  {
   "cell_type": "markdown",
   "metadata": {},
   "source": [
    "## Building K-Means Clustering model from scratch \n",
    "The K-Means clustering algorithm is built below but due to large \"X\" (TF-IDF output), this cannot be run on the original \"X\" due to memory issues and type of \"X\" output. Therefore, a randomised and simplified numeric dataset is built to show how the KMeans clustering algorithm works, without the use of any clustering libraries.   \n",
    "\n",
    "Implementing K-Means clustering:            \n",
    "Step 1: Load data                    \n",
    "Step 2: Calculate Euclidean distance - write a function and call it      \n",
    "Step 3: Write code for K-Means clustering (and call Euclidean distance function)      \n",
    "Step 4: Plotting clusters\n",
    "\n",
    "To properly build a K-Means model, the _sklearn_'s _Kmeans_ library was used to continue the clustering analysis, using \"X\". "
   ]
  },
  {
   "cell_type": "code",
   "execution_count": 9,
   "metadata": {},
   "outputs": [
    {
     "data": {
      "text/plain": [
       "<matplotlib.collections.PathCollection at 0x16f8df2c358>"
      ]
     },
     "execution_count": 9,
     "metadata": {},
     "output_type": "execute_result"
    },
    {
     "data": {
      "image/png": "[encoded data removed]",
      "text/plain": [
       "<Figure size 432x288 with 1 Axes>"
      ]
     },
     "metadata": {
      "needs_background": "light"
     },
     "output_type": "display_data"
    }
   ],
   "source": [
    "# Preprocessing to build randomised data as example\n",
    "center_1 = np.array([1,2])\n",
    "center_2 = np.array([6,6])\n",
    "center_3 = np.array([9,1])\n",
    "center_4 = np.array([-5,-1])\n",
    "\n",
    "# Generate random data and center it to the four centers each with a different variance\n",
    "np.random.seed(5)\n",
    "data_1 = np.random.randn(200,2) * 1.5 + center_1\n",
    "data_2 = np.random.randn(200,2) * 1 + center_2\n",
    "data_3 = np.random.randn(200,2) * 0.5 + center_3\n",
    "data_4 = np.random.randn(200,2) * 0.8 + center_4\n",
    "data = np.concatenate((data_1, data_2, data_3, data_4), axis = 0)\n",
    "\n",
    "k = 4\n",
    "c = data.shape[1]\n",
    "mean = np.mean(data, axis = 0)\n",
    "std = np.std(data, axis = 0)\n",
    "centers = np.random.randn(k,c)*std + mean\n",
    "\n",
    "\n",
    "# Step 1: Load data\n",
    "df = pd.DataFrame(data)\n",
    "df.shape\n",
    "\n",
    "\n",
    "# Step 2: Function for Euclidean distance\n",
    "def E_dist(data1, data2):\n",
    "    data1 = np.array(data1) \n",
    "    data2 = np.array(data2)\n",
    "    return np.linalg.norm(data1 - data2)\n",
    "\n",
    "\n",
    "# Step 3: Implementing KNN Clustering \n",
    "k = 4\n",
    "n = data.shape[0]\n",
    "colors=['green', 'blue', 'yellow', 'cyan']\n",
    "c = data.shape[1]\n",
    "\n",
    "centers_old = np.zeros(centers.shape)\n",
    "centers_new = centers  # Store new centers\n",
    "clusters = np.zeros(n)\n",
    "distances = np.zeros((n,k))\n",
    "\n",
    "error = E_dist(centers_new, centers_old)\n",
    "while error != 0:  # Update everytime a new center is created\n",
    "    for i in range(k):\n",
    "        distances[:,i] = np.linalg.norm(data - centers[i], axis=1)\n",
    "    clusters = np.argmin(distances, axis = 1)\n",
    "    centers_old = centers_new\n",
    "\n",
    "    for i in range(k):\n",
    "        centers_new[i] = np.mean(data[clusters == i], axis=0)\n",
    "        point=data[clusters == i]\n",
    "        plt.scatter(point[:,0], point[:,1], s=7, c=colors[i])\n",
    "    error = E_dist(centers_new, centers_old)\n",
    "centers_new \n",
    "\n",
    "# Step 4: Plot clusters\n",
    "colors=['green', 'blue', 'yellow', 'cyan']\n",
    "plt.scatter(centers_new[:,0], centers_new[:,1], marker='*', c='red', edgecolor='red', s=150)"
   ]
  },
  {
   "cell_type": "markdown",
   "metadata": {},
   "source": [
    "## Building K-Means model with sklearn library\n",
    "Now that an example of a simple numerical dataset has been used, a K-Means clustering library will be used to conduct the analysis on the text data (\"X\"). "
   ]
  },
  {
   "cell_type": "code",
   "execution_count": 16,
   "metadata": {},
   "outputs": [
    {
     "data": {
      "image/png": "[encoded data removed]",
      "text/plain": [
       "<Figure size 1080x288 with 1 Axes>"
      ]
     },
     "metadata": {
      "needs_background": "light"
     },
     "output_type": "display_data"
    }
   ],
   "source": [
    "# Using KMeans library, find the optimal no. of clusters (Elbow Method)\n",
    "number_clusters = range(1, 100)\n",
    "score = []\n",
    "\n",
    "for i in number_clusters:\n",
    "    kmeans = KMeans(n_clusters=i, max_iter=100)\n",
    "    kmeans.fit(X)\n",
    "    score.append(kmeans.inertia_)\n",
    "\n",
    "figure(figsize=(15, 4))\n",
    "plt.plot(number_clusters, score)\n",
    "plt.title('Elbow Method')\n",
    "plt.xlabel('Number of Clusters')\n",
    "plt.ylabel('Score')\n",
    "plt.show()"
   ]
  },
  {
   "cell_type": "code",
   "execution_count": null,
   "metadata": {},
   "outputs": [],
   "source": [
    "# Implment model with optimal clusters\n",
    "K = 2 #Optimal no. of clusters found above\n",
    "kmeans = KMeans(n_clusters=K, max_iter=100, random_state=42)\n",
    "kmeans.fit(X)\n",
    "\n",
    "y_kmeans = kmeans.predict(X)\n",
    "\n",
    "plt.scatter(X[:, 0], X[:, 1], c=y_kmeans, s=50)\n",
    "\n",
    "centers = kmeans.cluster_centers_\n",
    "plt.scatter(centers[:, 0], centers[:, 1], c='black', s=200, alpha=0.5);"
   ]
  },
  {
   "cell_type": "code",
   "execution_count": null,
   "metadata": {},
   "outputs": [],
   "source": []
  },
  {
   "cell_type": "code",
   "execution_count": null,
   "metadata": {},
   "outputs": [],
   "source": []
  },
  {
   "cell_type": "code",
   "execution_count": null,
   "metadata": {},
   "outputs": [],
   "source": []
  },
  {
   "cell_type": "code",
   "execution_count": 67,
   "metadata": {},
   "outputs": [],
   "source": [
    "my_dir_path = \"OneDrive/Desktop/Medius Health Challenge/Medius-Health-Challenge/data\"\n",
    "results = defaultdict(list)\n",
    "for file in flist:\n",
    "    with open(file, \"r\") as file_open:\n",
    "        results[\"filename\"].append(file.replace(\"data/\", \"\"))\n",
    "        results[\"text\"].append(file_open.read())\n",
    "df = pd.DataFrame(results)\n",
    "df.head()\n",
    "\n",
    "documents = re.split(\"\\n|\\t|\\\\\\\\n|\\\\\\\\t\", str(df['text']))\n",
    "tokenizer = RegexpTokenizer(r'\\w+')\n",
    "#tokens = word_tokenize(raw)\n",
    "tokens = tokenizer.tokenize(str(documents))\n",
    "processed_docs = nltk.sent_tokenize(str(documents))\n",
    "\n",
    "# Lower case all words and make sorted vocabulary \n",
    "raw_words = [w.lower() for w in tokens]\n",
    "stop_words = set(stopwords.words(\"english\"))\n",
    "new_words = []\n",
    "for w in raw_words:\n",
    "    if w not in stop_words:\n",
    "        new_words.append(w)\n",
    "        \n",
    "remove_words = ['edu', 'com', 'cmu', 'cs', 'cantaloupe', 'srv', 'newsgroups', 'cantaloupe', \n",
    "               'xref', 'subject', 'id', 'message', 'from', 'date', 'sender', \n",
    "               'references', 'organization', 'lines', 'path']\n",
    "words = []\n",
    "for w in new_words:  \n",
    "    if w not in remove_words:\n",
    "        words.append(w)"
   ]
  },
  {
   "cell_type": "code",
   "execution_count": 68,
   "metadata": {},
   "outputs": [
    {
     "name": "stderr",
     "output_type": "stream",
     "text": [
      "[nltk_data] Downloading package wordnet to\n",
      "[nltk_data]     C:\\Users\\arwas\\AppData\\Roaming\\nltk_data...\n",
      "[nltk_data]   Package wordnet is already up-to-date!\n"
     ]
    },
    {
     "data": {
      "text/plain": [
       "True"
      ]
     },
     "execution_count": 68,
     "metadata": {},
     "output_type": "execute_result"
    }
   ],
   "source": [
    "import gensim"
   ]
  },
  {
   "cell_type": "code",
   "execution_count": 74,
   "metadata": {},
   "outputs": [
    {
     "name": "stdout",
     "output_type": "stream",
     "text": [
      "['0', 'talk', 'polit', '1', 'talk', 'polit', '2', 'talk', 'polit', '3', 'misc', 'headlin', '4', 'crabappl', '5', 'talk', 'polit', '6', 'alt', 'polit', 'c', '7', 'alt', 'activ', '4', '8', 'crabappl', '9', 'talk', 'polit', 'misc', 'cantal', '10', 'talk', 'abort', '11', 'talk', 'polit', '12', 'talk', 'polit', '13', 'alt', 'conspiraci', '14', 'misc', 'headlin', '15', 'talk', 'polit', '16', 'misc', 'legal', '600', '17', 'talk', 'polit', '18', 'talk', 'polit', '19', 'talk', 'polit', 'misc', 'cantal', '20', 'talk', 'abort', '21', 'crabappl', '22', 'soc', 'cultur', 'je', '23', 'alt', 'fan', 'rush', 'l', '24', 'talk', 'polit', '25', 'talk', 'polit', 'misc', 'ca', 'polit', 'ba', '26', 'soc', 'cultur', 'us', '27', 'soc', 'cultur', 'yu', '28', 'talk', 'polit', 'misc', 'cantal', '29', 'alt', 'polit', 'c', '270', 'magnesium', 'club', '271', 'magnesium', 'club', '272', 'magnesium', 'club', '273', 'talk', 'polit', '274', 'magnesium', 'club', '275', 'magnesium', 'club', '276', 'talk', 'polit', 'gun', 'cantal', '277', 'alt', 'activ', '4', '278', 'talk', 'polit', 'gun', 'cantal', '279', 'talk', 'polit', 'gun', 'cantal', '280', 'talk', 'polit', 'gun', 'cantal', '281', 'talk', 'polit', '282', 'talk', 'polit', '283', 'talk', 'polit', '284', 'talk', 'polit', 'gun', 'polit', 'pa', '285', 'crabappl', '286', 'talk', 'polit', 'gun', 'cantal', '287', 'crabappl', '288', 'talk', 'polit', 'gun', 'co', 'gener', 'pat', '289', 'crabappl', '290', 'crabappl', '291', 'talk', 'polit', 'gun', 'cantal', '292', 'talk', 'polit', 'gun', 'cantal', '293', 'talk', 'polit', 'gun', 'cantal', '294', 'crabappl', '295', 'talk', 'religion', '296', 'magnesium', 'club', '297', 'talk', 'polit', '298', 'talk', 'polit', 'gun', 'cantal', '299', 'magnesium', 'club', 'name', 'text', 'length', '300', 'dtype', 'object']\n"
     ]
    }
   ],
   "source": [
    "from nltk.stem.porter import PorterStemmer\n",
    "\n",
    "p_stemmer = PorterStemmer()\n",
    "texts = [p_stemmer.stem(i) for i in words]\n",
    "\n",
    "print(texts)"
   ]
  },
  {
   "cell_type": "code",
   "execution_count": 77,
   "metadata": {},
   "outputs": [
    {
     "name": "stdout",
     "output_type": "stream",
     "text": [
      "[(0, 1)]\n"
     ]
    }
   ],
   "source": [
    "from gensim import corpora, models\n",
    "texts = [t.split() for t in texts]\n",
    "dictionary = corpora.Dictionary(texts)\n",
    "corpus = [dictionary.doc2bow(text) for text in texts]"
   ]
  },
  {
   "cell_type": "code",
   "execution_count": 87,
   "metadata": {},
   "outputs": [
    {
     "name": "stdout",
     "output_type": "stream",
     "text": [
      "[(0, '0.174*\"cantal\" + 0.103*\"club\" + 0.046*\"4\"'), (1, '0.130*\"crabappl\" + 0.115*\"magnesium\" + 0.099*\"alt\"'), (2, '0.274*\"polit\" + 0.266*\"talk\" + 0.090*\"gun\"'), (3, '0.118*\"misc\" + 0.053*\"cultur\" + 0.037*\"headlin\"')]\n"
     ]
    }
   ],
   "source": [
    "no_topics = 4\n",
    "ldamodel = gensim.models.ldamodel.LdaModel(corpus, num_topics=no_topics, id2word = dictionary, passes=20)\n",
    "print(ldamodel.print_topics(num_topics=no_topics, num_words=3))"
   ]
  },
  {
   "cell_type": "code",
   "execution_count": null,
   "metadata": {},
   "outputs": [],
   "source": []
  },
  {
   "cell_type": "code",
   "execution_count": null,
   "metadata": {},
   "outputs": [],
   "source": []
  }
 ],
 "metadata": {
  "kernelspec": {
   "display_name": "Python 3",
   "language": "python",
   "name": "python3"
  },
  "language_info": {
   "codemirror_mode": {
    "name": "ipython",
    "version": 3
   },
   "file_extension": ".py",
   "mimetype": "text/x-python",
   "name": "python",
   "nbconvert_exporter": "python",
   "pygments_lexer": "ipython3",
   "version": "3.7.1"
  }
 },
 "nbformat": 4,
 "nbformat_minor": 2
}
